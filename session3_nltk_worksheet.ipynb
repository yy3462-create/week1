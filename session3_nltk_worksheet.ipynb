{
  "cells": [
    {
      "cell_type": "markdown",
      "metadata": {
        "id": "view-in-github",
        "colab_type": "text"
      },
      "source": [
        "<a href=\"https://colab.research.google.com/github/yy3462-create/week1/blob/main/session3_nltk_worksheet.ipynb\" target=\"_parent\"><img src=\"https://colab.research.google.com/assets/colab-badge.svg\" alt=\"Open In Colab\"/></a>"
      ]
    },
    {
      "cell_type": "markdown",
      "id": "f6603cae",
      "metadata": {
        "id": "f6603cae"
      },
      "source": [
        "\n",
        "# 📝 Python for Public Policy — Session 3 Worksheet  \n",
        "**Theme:** Text Analysis with NLTK (Inaugural Speeches or Your Own `.txt`)\n",
        "\n",
        "Use this notebook during the 60‑minute student-driven block. **No presentations** at the end.  \n",
        "You may analyze an NLTK inaugural speech **or** upload your own plain text file (`.txt`).\n",
        "\n",
        "**Timing guide:**  \n",
        "- Part A: 10 min · Part B: 10 min · Part C: 10 min · Part D: 10 min · Part E: 10 min · Part F: 10 min\n"
      ]
    },
    {
      "cell_type": "markdown",
      "id": "f5a58467",
      "metadata": {
        "id": "f5a58467"
      },
      "source": [
        "\n",
        "## Part 0 — Setup (run once)\n",
        "Upgrade NLTK (Colab often pins an older version) and download the datasets we need.\n"
      ]
    },
    {
      "cell_type": "code",
      "execution_count": 1,
      "id": "68206010",
      "metadata": {
        "id": "68206010",
        "colab": {
          "base_uri": "https://localhost:8080/"
        },
        "outputId": "e3722215-3259-4e47-fdc4-c4cfb7e521ba"
      },
      "outputs": [
        {
          "output_type": "stream",
          "name": "stdout",
          "text": [
            "NLTK version: 3.9.2\n"
          ]
        }
      ],
      "source": [
        "\n",
        "# We upgrade NLTK to the latest version so functions and data work as expected.\n",
        "!pip -q install -U nltk\n",
        "\n",
        "# Now we import nltk and download only the small packages we need for this session.\n",
        "import nltk\n",
        "needed = [\"punkt_tab\",           # tokenizer (splits text into words)\n",
        "          \"stopwords\",       # list of common words to remove (the, and, is, ...)\n",
        "          \"wordnet\",         # lexical database used for lemmatization (getting word roots)\n",
        "          \"averaged_perceptron_tagger_eng\",  # part-of-speech tagger (N/V/Adj/Adv)\n",
        "          \"inaugural\"]       # a small corpus of U.S. inaugural addresses\n",
        "for pkg in needed:\n",
        "    nltk.download(pkg, quiet=True) # no status text printed - just downloads\n",
        "\n",
        "print(\"NLTK version:\", nltk.__version__)\n"
      ]
    },
    {
      "cell_type": "markdown",
      "id": "5b9e4e1d",
      "metadata": {
        "id": "5b9e4e1d"
      },
      "source": [
        "\n",
        "## Part A — Pick Your Text (10 min)\n",
        "Choose **one** source below.\n",
        "\n",
        "### Option 1 — Use the built-in Inaugural Speeches corpus\n"
      ]
    },
    {
      "cell_type": "markdown",
      "id": "71e8e1a3",
      "metadata": {
        "id": "71e8e1a3"
      },
      "source": [
        "\n",
        "### Option 2 — Upload your own `.txt`\n",
        "> Must be **plain text** (e.g., speech, policy memo, report). If you upload multiple files, we’ll read the first one.\n",
        "\n",
        "\n",
        "If you don’t already have a `.txt` file (like the inaugural corpus examples), you can **make one directly in Colab**.  \n",
        "This is helpful if you want to analyze text copied from a website, a PDF, or your own writing.\n",
        "\n",
        "📝 Example: paste any text (such as a news article, policy speech, or blog post) into the triple quotes below."
      ]
    },
    {
      "cell_type": "code",
      "execution_count": 21,
      "id": "02ed2b83",
      "metadata": {
        "id": "02ed2b83",
        "colab": {
          "base_uri": "https://localhost:8080/"
        },
        "outputId": "05362831-974e-4d95-93bb-119d096d2551"
      },
      "outputs": [
        {
          "output_type": "stream",
          "name": "stdout",
          "text": [
            "✅ Saved mytext.txt\n",
            " “Technologies of the Self.” Lectures at University of Vermont Oct. 1982, in Technologies of the Self, 16-49. Univ. of Massachusets Press, 1988.\n",
            "I\n",
            "When I began to study the rules, duties, and prohibitions of sexuality, the interdictions and restrictions associated with it, I was concerned not simply with the acts that were permitted and forbidden but with the feelings represented, the thoughts, the desires one might experience, the drives to seek within the self any hidden feeling, any movement \n",
            "✅ Saved mytext.txt\n",
            " “Technologies of the Self.” Lectures at University of Vermont Oct. 1982, in Technologies of the Self, 16-49. Univ. of Massachusets Press, 1988.\n",
            "I\n",
            "When I began to study the rules, duties, and prohibitions of sexuality, the interdictions and restrictions associated with it, I was concerned not simply with the acts that were permitted and forbidden but with the feelings represented, the thoughts, the desires one might experience, the drives to seek within the self any hidden feeling, any movement \n"
          ]
        }
      ],
      "source": [
        "\n",
        "# Create a plain-text file in Colab\n",
        "text = \"\"\" “Technologies of the Self.” Lectures at University of Vermont Oct. 1982, in Technologies of the Self, 16-49. Univ. of Massachusets Press, 1988.\n",
        "I\n",
        "When I began to study the rules, duties, and prohibitions of sexuality, the interdictions and restrictions associated with it, I was concerned not simply with the acts that were permitted and forbidden but with the feelings represented, the thoughts, the desires one might experience, the drives to seek within the self any hidden feeling, any movement of the soul, any desire disguised under illusory forms. There is a very signiﬁcant difference between interdictions about sexuality and other forms of interdiction. Unlike other interdictions, sexual interdictions are constantly connected with the obligation to tell the truth about oneself.\n",
        "\n",
        "Two facts may be objected: ﬁrst, that confession played an important part in penal and religious institutions for all offenses, not only in sex. But the task of analyzing one’s sexual desire is always more important than analyzing any other kind of sin.\n",
        "\n",
        "I am also aware of the second objection: that sexual behavior more than any other was submitted to very strict rules of secrecy, decency, and modesty so that sexuality is related in a strange and complex way both to verbal prohibition and to the obligation to tell the truth, of hiding what one does, and of deciphering who one is.\n",
        "\n",
        "The association of prohibition and strong incitations to speak is a constant feature of our culture. The theme of the renunciation of the ﬂesh was linked to the confession of the monk to the abbot, to telling the abbot everything that he had in mind.\n",
        "\n",
        "I conceived of a rather odd project: not the evolution of sexual behavior but the projection of a history of the link between the obligation to tell the truth and the prohibitions against sexuality. I asked: How had the subject been compelled to decipher himself in regard to what was forbidden? It is a question of the relation between asceticism and truth.\n",
        "\n",
        "Max Weber posed the question: If one wants to behave rationally and regulate one’s action according to true principles, what part of one’s self should one renounce? What is the ascetic price of reason? To what kind of asceticism should one submit? I posed the opposite question: How have certain kinds of interdictions required the price of certain kinds of knowledge about oneself? What must one know about oneself in order to be willing to renounce anything?\n",
        "\n",
        "Thus I arrived at the hermeneutics of technologies of the self in pagan and early Christian practice. I encountered certain difﬁculties in this study because these practices are not well known. First, Christianity has always been more interested in the history of its beliefs than in the history of real practices. Second, such a hermeneutics was never organized into a body of doctrine like textual hermeneutics. Third, the hermeneutics of the self has been confused with theologies of the soul-concupiscence, sin, and the fall from grace. Fourth, a hermeneutics of the self has been diffused across Western culture through numerous channels and integrated with various types of attitudes and experience so that it is difﬁcult to isolate and separate it from our own spontaneous experiences.\n",
        "\n",
        "CONTEXT OF STUDY\n",
        "\n",
        "My objective for more than twenty-ﬁve years has been to sketch out a history of the different ways in our culture that humans develop knowledge about themselves: economics, biology, psychiatry, medicine, and penology. The main point is not to accept this knowledge at face value but to analyze these so-called sciences as very speciﬁc “truth games” related to speciﬁc techniques that human beings use to understand themselves.\n",
        "\n",
        "As a context, we must understand that there are four major types of these “technologies,” each a matrix of practical reason: (I) technologies of production, which permit us to produce, transform, or manipulate things; (2) technologies of sign systems, which permit us to use signs, meanings, symbols, or signiﬁcation; (3) technologies of power, which determine the conduct of individuals and submit them to certain ends or domination, an objectivizing of the subject; (4) technologies of the self, which permit individuals to effect by their own means or with the help of others a certain number of operations on their own bodies and souls, thoughts, conduct, and way of being, so as to transform I themselves in order to attain a certain state of happiness, purity, wisdom, perfection, or immortality.\n",
        "\n",
        "These four types of technologies hardly ever function separately, although each one of them is associated with a certain I type of domination. Each implies certain modes of training and modiﬁcation of individuals, not only in the obvious sense of acquiring certain skills but also in the sense of acquiring certain attitudes. I wanted to show both their speciﬁc nature and their constant interaction. For instance, one sees the relation between manipulating things and domination in Karl Marx’s Capital, where every technique of production requires modiﬁcation of individual conduct not only skills but also attitudes.\n",
        "\n",
        "Usually the ﬁrst two technologies are used in the study of the sciences and linguistics. It is the last two, the technologies of domination and self, which have most kept my attention. I have attempted a history of the organization of knowledge. with respect to both domination and the self. For example, I studied madness not in terms of the criteria of formal sciences but to show how a type of management of individuals inside and outside of asylums was made possible by this strange discourse. This contact between the technologies of domination of others and those of the self I call governmentality.\n",
        "\n",
        "Perhaps I’ve insisted too much in the technology of domination and power. I am more and more interested in the interaction between oneself and others and in the technologies of individual domination, the history of how an individual acts upon himself, in the technology of self.\n",
        "\n",
        "THE DEVELOPMENT OF TECHNOLOGIES OF THE SELF\n",
        "\n",
        "I wish to sketch out the development of the hermeneutics of the self in two different contexts which are historically contiguous: (1) Greco-Roman philosophy in the ﬁrst two centuries A.D. of the early Roman Empire and (2) Christian spirituality and the monastic principles developed in the fourth and ﬁfth centuries of the late Roman Empire.\n",
        "\n",
        "Moreover, I wish to discuss the subject not only in theory but in relation to a set of practices in late antiquity. These practices were constituted in Greek as epimelesthai sautou, “to take care of yourself”, “the concern with self”, “to be concerned, to take care of yourself”.\n",
        "\n",
        "The precept “to be concerned with oneself” was, for the Greeks, one of the main principles of cities, one of the main rules for social and personal conduct and for the art of life. For us now this notion is rather obscure and faded. When one is asked “What is the most important moral principle in ancient philosophy?” the immediate answer is not, “Take care of oneself” but the Delphic principle, gnothi sauton (“Know yourself”).\n",
        "\n",
        "Perhaps our philosophical tradition has overemphasized the latter and forgotten the former. The Delphic principle was not an abstract one concerning life; it was technical advice, a rule to be observed for the consultation of the oracle. “Know yourself” meant “Do not Suppose yourself to be a god”. Other commentators suggest that it meant “Be aware of what you really ask when you come to consult the oracle”.\n",
        "\n",
        "In Greek and Roman texts, the injunction of having to know yourself as always associated with the other principle of having too take care of yourself, and it was that need to care for oneself that brought the Delphic maxim into operation. It is implicit in all Greek and Roman culture and has been explicit since Plato’s Alcibiades I. In the Socratic dialogues, in Xenophon, Hippocrates, and in the Neoplatonist tradition from Albinus on, one had to be concerned with oneself. One had to occupy oneself with oneself before the Delphic principle was brought into action. There was a subordination of the second principle to the former. I have three or four examples of this.\n",
        "\n",
        "In Plato’s Apology, 29, Socrates presents himself before his judges as a master of epimeleia heautou. You are “not ashamed to care for the acquisition of wealth and for reputation and honor,” he tells them, but you do not concern yourselves with yourselves, that is, with “wisdom, truth and the perfection of the soul.” He, on the other hand, watches over the citizens to make sure they occupy themselves with themselves.\n",
        "\n",
        "Socrates says three important things with regard to his invitation to others to occupy themselves with themselves: (1) His mission was conferred on him by the gods, and he won’t abandon it except with his last breath. (2) For this task he demands no reward; he is disinterested; he performs it out of benevolence. (3) His mission is useful for the city more useful than the Athenians military victory at Olympia - because in teaching people too occupy themselves with themselves, he teaches them to occupy themselves with the city.\n",
        "\n",
        "Eight centuries later, one ﬁnds the same notion and the same phrase in Gregory of Nyssa’s treatise, On Virginity, but with an entirely different meaning. Gregory did not mean the movement by which one takes care of oneself and the city; he meant the movement by which one renounces the world and marriage and detaches oneself from the ﬂesh and, with virginity of heart and body, recovers the immortality of which one has been deprived. In commentating on the parable of the drachma (Luke 15:8 - 10), Gregory exhorts one to light the lamp and turn the house over and search, until gleaming in the shadow one sees the drachma within. In order to recover the efﬁcacy which God has printed on one’s soul and which the body has tarnished, one must take care of oneself and search every corner of the soul (De Virg. 12). We can see that Christian asceticism, like ancient philosophy, places itself under the same sign of concern with oneself. The obligation to know oneself is one of the elements of its central preoccupation. Between these two extremes - Socrates and Gregory of Nyssa - taking care of oneself constituted not only a principle but also a constant practice.\n",
        "\n",
        "I have two more examples. The ﬁrst Epicurean text to serve as a manual of morals was the Letter to Menoeceus (Diogenes Laërtius 10.122 - 38). Epicurus writes that it is never too early, never too late, to occupy oneself with one’s soul. One should philosophize when one is young and also when one is old. It was a task to be carried on throughout life. Teachings about everyday life were organized around taking care of oneself in order to help every member of the group with the mutual work of salvation.\n",
        "\n",
        "Another example comes from an Alexandrian text, On the Contemplative Life, by Philo of Alexandria. He describes an obscure, enigmatic group on the periphery of Hellenistic and Hebraic culture called the Therapeutae, marked by its religiosity. It was an austere community, devoted to reading, to healing meditation, to individual and collective prayer, and to meeting for a spiritual banquet (agapä, “feast”). These practices stemmed from the principle task, concern for oneself (De Vita Cont. 36).\n",
        "\n",
        "This is the point of departure for some possible analysis for the care of the self in ancient culture. I would like to analyze the relation between care and self-knowledge, the relation found in Greco-Roman and Christion traditions between the care of oneself and the too well-known principle “Know yourself”. As there are different forms of care, there are different forms of self.\n",
        "\n",
        "SUMMARY\n",
        "\n",
        "There are several reasons why “Know yourself” has obscured “Take care of yourself”. First, there has been a profound transformation in the moral principles of Western society. We ﬁnd it difﬁcult to base rigorous morality and austere principles on the precept that we should give ourselves more care than anything else in the world. We are more inclined to see taking care of ourselves as an immorality, as a means of escape from all possible rules. We inherit the tradition of Christian morality which makes self-renunciation the condition for salvation. To know oneself was paradoxically the way to self-renunciation.\n",
        "\n",
        "We also inherit a secular tradition which respects external law as the basis for morality. How then can respect for the self be the basis for morality? We are the inheritors of a social morality which seeks the rules for acceptable behavior in relations with others. Since the sixteenth century, criticism of established morality has been undertaken in the name of the importance of recognizing and knowing the self. Therefore, it is difﬁcult to see concern with oneself as compatible with morality. “Know thyself” has obscured “Take care of yourself” because our morality, a morality of asceticism, insists that the self is that which one can reject.\n",
        "\n",
        "The second reason is that, in theoretical philosophy from Descartes to Husserl, knowledge of the self (the thinking subject) takes on an ever-increasing importance as the ﬁrst step in the theory of knowledge.\n",
        "\n",
        "To summarize: There has been an inversion between the hierarchy of the two principles of antiquity, “Take care of yourself” and “Know thyself”. In Greco-Roman culture knowledge of oneself appeared as the consequence of taking care of yourself. In the modern world, knowledge of oneself constitutes the fundamental principle.\n",
        "\n",
        "II\n",
        "The ﬁrst philosophical elaboration of the concern with taking care of oneself that I wish to consider is found in Plato’s Alcibiades I. The date of its writing is uncertain, and it may be a spurious Platonic dialogue. It is not my intention to study dates but to point the principal features of the care of self which is the center of the dialogue.\n",
        "\n",
        "The Neoplatonists in the third or fourth century A.D. show the signiﬁcance given to this dialogue and the importance it assumed in the classical tradition. They wanted to organize Plato’s dialogues as pedagogy and as the matrix for encyclopedic knowledge. They considered Alcibiades to be the ﬁrst dialogue of Plato, the ﬁrst to be read, the ﬁrst to be studied. It was arche. In the second century Albinus said that every gifted young man who wanted to stand apart from politics and practice virtue should study the Alcibiades. It provided the point of departure and a program for all Platonic philosophy. “Taking care of oneself” was its ﬁrst principle. I would like to analyze the care of self in the Alcibiades I in terms of three aspects.\n",
        "\n",
        "1. How is this question introduced into the dialogue? What are the reasons Alcibiades and Socrates are brought to the notion of taking care of one’s self?\n",
        "Alcibiades is about to begin his public and political life. He wishes to speak before the people and be all-powerful in the city. He is not satisﬁed with his traditional status, with the privileges of his birth and heritage. He wishes to gain personal power over all others both inside and outside the city. At this point of intersection and transformation, Socrates intervenes and declares his love for Alcibiades. Alcibiades can no longer be the beloved; he must become a lover. He must become active in the political and the love game. Thus, there is a dialect between political and erotic discourse. Alcibiades makes his transition in speciﬁc ways in both politics and love.\n",
        "\n",
        "An ambivalence is evident in Alcibiade’s political and erotic vocabulary. During his adolescence Alcibiades was desirable and had many admirers, but now that his beard is growing, his lovers disappear. Earlier, he had rejected them all in the bloom of his beauty because he wanted to be dominant, not dominated. He did not wish to be dominated by youth, but now he wants to dominate others. This is the moment Socrates appears, and he succeeds where others have failed: He will make Alcibiades submit, but in a different sense. They make a pact - Alcibiades will submit to his lover. Socrates, not in a physical but in a spiritual sense. The intersection of political ambition and philosophical love is “taking care of oneself”.\n",
        "\n",
        "2. In that relationship, why should Alcibiades be concerned with himself, and why is Socrates concerned with that concern of Alcibiades? Socrates asks Alcibiades about his personal capacity and the nature of his ambition. Does he know the meaning of the rule of law, of justice or concord?\n",
        "Alcibiades clearly knows nothing. Socrates calls upon him to compare his education with that of the Persian and Spartan kings, his rivals. Spartan and Persian princes have teachers in Wisdom, Justice, Temperance, and Courage. By comparison, Alcibiades’ education is like that of an old, ignorant slave. He doesn’t know these things so he can’t apply himself to knowledge. But, says Socrates, it’s not too late. To help him gain the upper hand - to acquire techne - Alcibiades must apply himself, he must take care of himself. But Alcibiades doesn’t know to what he must apply himself. What is this knowledge he seeks? He is embarrassed and confused. Socrates calls upon him to take heart.\n",
        "\n",
        "In 127d of the Alcibiades we ﬁnd the ﬁrst appearance of the phrase, epimelesthai sautou. Concern for the self always refers to an active political and erotic state. Epimelesthai expresses something much more serious than the simple fact of paying attention. It involves various things: taking pains with one’s holdings and one’s health. It is always a real activity and not just attitude. It is used in reference to the activity of a farmer tending his ﬁelds, his cattle, and his house, or to the job of the king in taking care of his city and citizens, or to the worship of ancestors or gods, or as a medical term to signify the fact of caring. It is highly signiﬁcant that the concern for the self in Alcibiades I is directly related to a defective pedagogy, one which concerns political ambition and a speciﬁc moment of life.\n",
        "\n",
        "3. The rest of the text is devoted to an analysis of this notion of epimelesthai, “taking pains with oneself”. It is divided into two questions: What is this self of which one has to take care. and of what does that care consist?\n",
        "First, what is the self (129b)? Self is a reﬂective pronoun, and it has two meanings. Auto means “the same”, but it also conveys the notion of identity. The latter meaning shifts the question from “What is this self?” to “What is the plateau on which I shall ﬁnd my identity?”\n",
        "\n",
        "Alcibiades tries to ﬁnd the self in a dialectical movement. When you take care of the body, you don’t take care of the self. The self is not clothing, tools, or possessions. It is to be found in the principle which uses these tools, a principle not of the body but of the soul. You have to worry about your soul - that is the principle activity of caring for yourself. The care of the self is the care of the activity and not the care of the soul-as-substance.\n",
        "\n",
        "The second question is: How must we take care of this principle of activity, the soul? Of what does this care consist? One must know of what the soul consists. The soul cannot know itself except by looking at itself in a similar element, a mirror. Thus, it must contemplate the divine element. In this divine contemplation, the soul will be able to discover rules serve as a basis for behavior and political action. The effort of the soul to know itself is the principle on which just political action can be founded, and Alcibiades will be a good politicians insofar as he contemplates his soul in the divine element.\n",
        "\n",
        "Often the discussion gravitates around and is phrased in terms of the Delphic principle, “Know yourself”. To take care of oneself consists of knowing oneself. Knowing oneself becomes the object of the quest of concern for self. Being occupied with oneself and political activities are linked. The dialogue ends when Alcibiades knows he must take care of himself by examining his soul.\n",
        "\n",
        "This early text illuminates the historical background of the precept “taking care of oneself” and sets out four main problems that endure throughout antiquity, although the solutions offered often differ from those in Plato’s Alcibiades.\n",
        "\n",
        "First, there is the problem of the relation between being occupied with oneself and political activity. In the later Hellenistic and imperial periods, the question is presented in an alternative way: When is it better to turn away from political activity to concern oneself with oneself?\n",
        "\n",
        "Second, there is a problem of the relationship between being occupied with oneself and pedagogy. For Socrates, occupying oneself if the duty of a young man, but later in the Hellenistic period it is seen as a permanent duty of one’s whole life.\n",
        "\n",
        "Third, there is a problem of the relationship between concern for oneself and the knowledge of oneself. Plato gave priority to the Delphic maxim, “Know yourself”. The privileged position of “Know yourself” is characteristic of all Platonists. Later, in the Hellenistic and Greco-Roman periods, this is reversed. The accent was not on the knowledge of the self but on the concern with oneself. The latter was given an autonomy and even a pre-eminence as a philosophical issue.\n",
        "\n",
        "Fourth, there is the problem of the relationship between the care of the self and philosophical love, of the relation to the master.\n",
        "\n",
        "In the Hellenistic and imperial periods, the Socratic notion of “taking care of oneself” became a common, universal philosophical theme. “Care of the self” was accepted by Epicurus and his followers, by the Cynics, and by such Stoics as Seneca, Rufus, and Galen. The Pythagoreans gave attention to the notion of an ordered life in common. This theme of taking care of oneself was not abstract advice but a widespread activity, a network of obligations and services to the soul. Following Epicurus himself, the Epicureans believed that its never too late to occupy oneself with oneself. The Stoics say you must attend to the self, “retire into the self and stay there.” Lucian parodied the notion. It was an extremely widespread activity and it brought about competition between rhetoricians and those who turned toward themselves, particularly over the question of the master.\n",
        "\n",
        "There were charlatans, of course. But certain individuals took it seriously. It was generally acknowledged that it was good to be reﬂective, at least brieﬂy. Pliny advises a friend to set aside a few moments a day, or several weeks or months, for a retreat into himself. This was an active leisure - to study, to read, to prepare for misfortune or death. It was a meditation and a preparation.\n",
        "\n",
        "Writing was also important in the culture of taking care of oneself. One of the main features of taking care involved taking notes on oneself to be reread, writing treatises and letters to friends to help them, and keeping notebooks in order to reactivate for oneself the truths on needed. Socrate’s letters are an example of this self-exercise\n",
        "\n",
        "In traditional political life, oral culture was largely dominant, and therefore rhetoric was important. But the development of the administrative structures and the bureaucracy of the imperial period increased the amount and role of writing in the political sphere. In Plato’s writings, dialogue gave way to the literary pseudo-dialogue. But by the Hellenistic age, writing prevailed, and real dialectic passed to correspondence. Taking care of oneself became linked to a constant writing activity. The self is something to write about, a theme or object (subject) of writing activity. That is not a modern trait born of the Reformation or of romanticism; it is one of the most ancient Western traditions. It was well established and deeply rooted when Augustine started writing his Confessions.\n",
        "\n",
        "The new concern with self involved a new experience of self. The new form of the experience of the self is to be seen in the ﬁrst and second century when introspection becomes more and more detailed. A relation developed between writing and vigilance. Attention was paid to nuances of life, mood, and reading, and the experience of oneself was intensiﬁed and widened by virtue of this act of writing. A whole ﬁeld of experience opened which earlier was absent.\n",
        "\n",
        "One can compare Cicero to the later Seneca or Marcu Aurelius. We see, for example, Seneca’s and Marcus’s meticulous concern with the details of daily life, with the movements of the spirit, with self-analysis. Everything in the imperial period is present in Marcus Aurelius’s letter of 144-45 A.D. to Fronto:\n",
        "\n",
        "Hail, my sweetest of masters.\n",
        "\n",
        "We are well. I slept somewhat late owing to my slight cold, which seems now to have subsided. So from ﬁve A.M. till 9, I spent the time partly reading some of Cato’s Agriculture, partly in writing not quite such wretched stuff, by heavens, as yesterday. Then, after paying my respects to my father, I relieved my throat, I will not say by gargling - though the word gargarisso is, I believe, found in Novius and elsewhere - but by swallowing honey water as far as the gullet and ejecting it again. After easing my throat I went off to my father and attended him at a sacriﬁce. Then we went to luncheon. What do you think we ate? A wee bit of bread, though I saw others devouring beans, onions, and herrings full of roe. We then worked hard at grape-gathering, and had a good sweat, and were merry and, as the poet says, “still left some clusters hanging high as gleanings of the vintage.” After six-o’clock we came home.\n",
        "\n",
        "I did but little work and that to no purpose. Then I had a long chat with my little mother as she sat on the bed. My talk was this: “What do you think my Fronto is now doing?” Then she: “And what do you think my Gratia is doing?” Then I: “And what do you think our little sparrow, the wee Gratia, is doing?” Whilst we were chattering in this way and disputing which of us loved the one or other of you two the better, the gong sounded, an intimation that my father had gone to his bath. So we had supper after we had bathed in the oil-press room; I do not mean bathed in the oil-press room, but when we had bathed, had supper there, and we enjoyed hearing the yokels chafﬁng one another. After coming back, before I turn over and snore, I get my task done and give my dearest of masters an account of the day’s doings, and if I could miss him more, I would not grudge wasting away a little more. Farewell, my Fronto, wherever you are, most honey-sweet, my love, my delight. How is it between you and me? I love you and you are away.\n",
        "\n",
        "This letter presents a description of everyday life. All the details of taking care of oneself are here, all the unimportant things he has done. Cicero tells only important things, but in Aurelius’s letter these details are important because they are you - what you thought, what you felt.\n",
        "\n",
        "The relation between the body and the soul is interesting too. For the Stoics, the body was not so important, but Marcus Aurelius speaks of himself, his health, what he has eaten, his sore throat. This is quite characteristic of the ambiguity about the body in this cultivation of the self. Theoretically, the culture is soul-orientated, but all the concerns of the body take on a huge importance. In Pliny and Seneca there is great hypochondria. They retreat to the countryside. They have intellectual activities bu rural activities as well. They eat and engage in the activity of peasants. The importance of the rural retreat in this letter is that nature helps put one in contact with oneself.\n",
        "\n",
        "There is also a love relationship with Aurelius and Fronto, one between a twenty-four and a forty-year old man. Ars erotica is the theme of discussion. Homosexual love was important in this period and carried over into Christian monasticism.\n",
        "\n",
        "Finally, in the last lines, there is an allusion to the examination of conscience at the end of the day. Aurelius goes to bed and looks in the notebook to see what he was going to do and how it corresponds to what he did. The letter is the transcription of that examination of conscience. It stresses what you did, not what you thought. That is the difference between practice in the Hellenistic and imperial periods and later monastic practice. In Seneca too there are only deeds, not thoughts. But it does preﬁgure Christian confession.\n",
        "\n",
        "This genre of epistles shows a side apart from the philosophy of the era. The examination of conscience begins with this letter writing. Diary writing comes later. It dates from the Christian Era and focuses on the notion of the struggle of the soul.\n",
        "\n",
        "III\n",
        "In my discussion of Plato’s Alcibiades, I have isolated three major themes: ﬁrst, the relation between care for oneself and care for the political life; second, the relation between taking care of the self and defective education; and third, the relation between taking care of oneself and knowing oneself. Whereas we saw in the Alcibiades the close relation between “Take care of yourself” and “Know yourself”, taking care of yourself eventually became absorbed into knowing yourself.\n",
        "\n",
        "We can see three themes in Plato, also in the Hellenistic period, and four to ﬁve centuries later in Seneca, Plutarch, Epicetus, and the like. If the problems are the same, the solutions and themes are quite different and, in some cases, the opposite of the Platonic meanings.\n",
        "\n",
        "First, to be concerned with self in the Hellenistic and Roman periods is not exclusively a preparation for political life. Care of the self has become a universal principle. One must leave politics to take better care of the self.\n",
        "\n",
        "Second, the concern with oneself is not just obligatory for young people concerned with their education; it is a way of living for everybody throughout their lives.\n",
        "\n",
        "Third, even if self-knowledge plays an important role in taking care of oneself, it involves other relationships as well.\n",
        "\n",
        "I want to discuss brieﬂy the ﬁrst two points: the universality of the care of the self independent of political life, and the care of the self throughout one’s life.\n",
        "\n",
        "1. A medical model was substituted for Plato’s pedagogical model. The care of the self isn’t another kind of pedagogy; it has to become permanent medical care. Permanent medical care is one of the central features of the care of the self. One must become the doctor of oneself.\n",
        "\n",
        "2. Since we have to take care throughout, the objective is no longer to get prepared for adult, or for another life, or for another life, but to get prepared for a certain complete achievement of life. This achievement is complete at the moment just prior to death - of old age as completion - is an inversion of the traditional Greek values on youth.\n",
        "\n",
        "3. Lastly, we have the various practices to which cultivation of self has given rise and the relation of self-knowledge to these.\n",
        "\n",
        "In Alcibiades I, the soul had a mirror relation to itself, which relates to the concept of memory and justiﬁes dialogue as a method of discovering truth in the soul. But, from the time of Plato to the Hellenistic age, the relationship between care of the self and knowledge of the self changed. We may note two perspectives.\n",
        "In the philosophical movements of Stoicism in the imperial period there is a different conception of truth and memory, and another method of examining the self. First, we see the disappearance of dialogue and the increasing importance of a new pedagogical relationship - a new pedagogical game where the master/teacher speaks and doesn’t ask questions and the disciple doesn’t answer but must listen and keep silent. A culture of silence becomes more and more important. In Pythagorean culture, disciples kept silent for ﬁve years as a pedagogical rule. They didn’t ask questions or speak up during the lesson, but they developed the art of listening. This is the positive condition for acquiring truth. The tradition is picked up during the imperial period, where we see the beginning of the culture of silence and the art of listening rather than the cultivation of dialogue as in Plato\n",
        "\n",
        "To learn the art of listening, we have to read Plutarch’s treatise on the art of listening to lectures (Peri tou akouein). At the beginning of this treatise, Plutarch says that, following schooling, we have to learn to listen to logos throughout our adult life. The art of listening is crucial so you can tell what is true and what is dissimulation, what is rhetorical truth and what is falsehood in the discourse of the rhetoricans. Listening is linked to the fact that you’re not under the control of the masters but you must listen to logos. You keep silent at the lecture. You think about it afterward. This is the art of listening to the voice of the master and the voice of reason in yourself.\n",
        "\n",
        "The advice may seem banal, but I think it’s important. In his teatise On the Contemplative Life, Philo of Alexandria describes banquets of silence, not debauched banquets with wine, boys, revelry, and dialogue. There is instead a teacher who gives a monologue on the interpretation of the Bible and a very precise indication of the way people must listen (De Vita Cont. 77). For example, they must always assume the same posture when listening. The morphology of this notion is an interesting theme in monasticism and pedagogy henceforth.\n",
        "\n",
        "In Plato the themes of contemplation of self and care of self are related dialectically through dialogue. Now in the imperial period we have themes of, on one side, the obligation of listening to truth and, on the other side, of looking and listening to the self for the truth within. The difference between the one era and the other is one of the great signs of the disappearance of the dialectical structure.\n",
        "\n",
        "What was an examination of conscience in this culture, and how does one look at oneself? For the Pythagoreans, the examination of conscience had to do with puriﬁcation. Since sleep was related to death as a kind of encounter with the gods, you had to purify yourself before going to sleep. Remembering the dead was an exercise for the memory. But in the Hellenistic and the early imperial periods, you see this practice acquitting new values and signiﬁcation. There are several relevant texts: Seneca’s De Ira, and De Tranquilitate and the beginning of Marcus Aurelius’s fourth book of Meditations.\n",
        "\n",
        "Seneca’s De Ira (book 3) contains some traces of the old tradition. He describes an examination of conscience. The same thing was recommended by the Epicureans, and the practice was rooted in the Pythagorean tradition. The goal was puriﬁcation of the conscience using a mnemonic device. Do good things, have a good examination of the self, and a good sleep follows together with good dreams, which is contact with the gods.\n",
        "\n",
        "Seneca seems to use juridical language, and it seems that the self is both the judge and the accused. Seneca is the judge and prosecutes the self so that the examination is a kind of trial. But if you look closer, it’s rather different than a court. Seneca uses terms related not to juridical but to administrative practices, as when a comptroller looks at the books or when a building inspector examines a building. Self-examination is taking stock. Faults are simply good intentions left undone. The rule is a means of doing something correctly, not judging what has happened in the past. Later, Christian confession will look for bad intentions.\n",
        "\n",
        "It is this administrative view of life much more than the juridical model that is important. Seneca isn’t a judge who has to punish but a stock-taking administrator. He is a permanent administrator of himself, not a judge of his past. He sees that everything has been done correctly following the rule but not he law. It is not real faults for which he reproaches himself but rather his lack of success. His errors are of strategy, not of moral character. He wants to make adjustments between what he wanted to do and what he had done and reactivate the rules of conduct, not excavate his guilt. In Christian confession, the penitent is obliged to memorize laws but does so in order to discover his sins.\n",
        "\n",
        "For Seneca it isn’t a question of discovering truth in the subject but of remembering truth, recovering a truth which has been forgotten. Second, the subject doesn’t forget himself, his nature, origin, or his supernatural afﬁnity, but the rules of conduct, what he ought to have done. Third, the recollection of errors committed in the day measures the distinction between what has been done and what should have been done. Fourth, the subject is not the operating ground for the process of deciphering but is the point where rules of conduct come together in memory. The subject constitutes the intersection between acts which have to be regulated and rules for what ought to be done. This is quite different from the Platonic conception and from the Christian conception of conscience.\n",
        "\n",
        "The Stoics spiritualized the notion of anachoresis, the retreat of an army, the hiding of an escaped slave from his master, or the retreat into the country away from the towns, as in Marcus Aurelius’s country retreat. A retreat into the country becomes a spiritual retreat into oneself. It is a general attitude and also a precise act every day; you retire into the self to discover - but not to discover faults and deep feelings, only to remember rules of action, the main laws of behavior. It is mnemotechnical formula.\n",
        "\n",
        "IV\n",
        "I have spoken of three Stoic techniques of the self: letters to friends and disclosure of self; examination of self and conscience, including a review of what was done, of what should have been done, and comparison of the two. Now I want to consider the third Stoic technique, askesis, not a disclosure of the secret self but a remembering.\n",
        "\n",
        "For Plato, one must discover the truth that is within one. For the Stoics, truth is not in oneself but in the logoi, the teaching of the teachers. One memorizes what one has heard, converting the statements one hears into rules of conduct. The subjectivization of truth is the aim of these techniques. During the imperial period , one couldn’t assimilate ethical principles without a theoretical framework such as science, as for example in Lucretius’s De Rerum Naturae. There are structural questions underlying the practice of the examination of the self every night. I want to underscore the fact that in Stoicism it’s not the deciphering of the self, not the means to disclose secrecy, which is important; it’s the memory of what you’ve done and what you’ve had to do.\n",
        "\n",
        "In Christianity asceticism always refers to a certain renunciation of the self and of reality because most of the time your self is a part of that reality you have to renounce in order to get access to another level of reality. This move to attain the renunciation of the self distinguishes Christian asceticism.\n",
        "\n",
        "In the philosophical tradition dominated by Stoicism, askesis means not renunciation but the progressive consideration of self, or mastery over oneself, obtained not through the renunciation of reality but through the acquisition and assimilation of truth. It has as its ﬁnal aim not preparation for another reality but access to the reality of this world. The Greek word for this is paraskeuazõ (“to get prepared”). It is a set of practices by which one can acquire, assimilate, and transform truth into a permanent principle of action. Alethia becomes ethos. It is a process of becoming more subjective.\n",
        "\n",
        "What are the principle features of askesis? They include exercises in which the subject puts himself into a situation in which he can verify whether he can confront events and use the discourse with which he is armed. It is a question of testing the preparation. Is this truth assimilated enough to become ethics so that we can behave as we must when an event presents itself?\n",
        "\n",
        "The Greeks characterized the two poles of those exercises by the terms melete and gymnasia. Melete means “meditation”, according to the Latin translation, meditatio. It has the same root as epimelesthai. It is a rather vague term, a technical term borrowed from rhetoric. Melete is the work one undertook in order to prepare a discourse or an improvisation by thinking over useful terms and arguments. You had to anticipate the real situation through dialogue in your thoughts. The philosophical meditation is this kind of meditation: It is composed of memorizing responses and reactivating those memories by placing oneself in a situation where one can imagine how one would react. One judges the reasoning one should use in an imaginary exercise (“Let us suppose…) in order to test an action or event (for example, “How would I react?”). Imagining the articulation of possible events to test how you would react - that’s meditation.\n",
        "\n",
        "The most famous exercise of meditation is the premeditatio mallorum as practiced by the Stoics. It is an ethical, imaginary experience. In appearance it’s a rather dark and pessimistic vision about eidetic reduction.\n",
        "\n",
        "The Stoics developed three eidetic reductions of future misfortune. First, it is not a question of imagining the future as it is likely to turn out but to imagine the worst which can happen, even if there’s little chance that it will turn out that way - the worst as certainty, as actualizing what could happen, not as calculation of probability. Second, one shouldn’t envisage things as possibly taking place in the distant future but as already actual and in the process of taking place. For example, imagining not that one might be exiled but rather that one is already exiled, subjected to torture, and dying. Third, one does this not in order to experience inarticulate sufferings but in order to convince oneself that they are not real ills. The reduction of all that is possible, of all the duration and of all the misfortunes, reveals not something bad but what we have to accept. It consists of having at the same time the future and the present event. The Epicureans were hostile to it because they thought it was useless. They thought it better to recollect and memorize past pleasures in order to derive pleasure from present events.\n",
        "\n",
        "At the opposite pole is gymnasia (“to train oneself”). While meditatio is an imaginary experience that trains thought, gymnasia is training in a real situation, even if it’s been artiﬁcially induced. There is a long tradition behind this: sexual abstinence, physical privation, and other rituals of puriﬁcation.\n",
        "Those practices of abstinence have other meanings than puriﬁcation or witnessing demonic force, as in Pythagoras and Socrates. In the culture of the Stoics, their function is to establish and test the independence of the individual with regard to the external world. For example, in Plutarch’s De Genio Socratis, one gives oneself over to very hard sporting activities. Or one temps oneself by placing oneself in front of many tantalizing dishes and then renouncing these appetizing dishes. Then you call your slaves and give them the dishes, and you take the meal prepared for the slaves. Another example is Seneca’s eighteenth letter to Lucilius. He prepares for a great feast day by acts of mortiﬁcation of the ﬂesh in order to convince himself that poverty is not an evil and he can endure it.\n",
        "Between these poles of training in thought and training in reality, melete and gymnasia, there are a whole series of intermediate possibilities. Epictetus provides the best example of the middle ground between these poles. He wants to watch perpetually over representations, a technique which culminates in Freud. There are two metaphors important from his point of view: the night watchman, who doesn’t admit anyone into town if that person can’t prove who he is (we must be “watchman” over the ﬂux of thought), and the money changer, who veriﬁes the authenticity of currency, looks at it, weighs and veriﬁes it. We have to be money changers of our own representations of our thoughts, vigilantly testing them, verifying them, their metal, weight, efﬁgy.\n",
        "The same metaphor of the money changer is found in the Stoics and in early Christian literature but with different meanings. When Epictetus says you have to be a money changer, he means as soon as an idea comes to mind you have to think of the rules you must apply to evaluate. For John Cassian, being a money changer and looking at your thoughts means something very different: It means you must try to decipher it, at the root of the movement which brings you the representations, there is or is not concupiscence or desire - if your innocent thought has evil origins; if you have something underlying which is the great seducer, which is perhaps hidden, the money of your thought.\n",
        "\n",
        "In Epictetus there are two exercises: sophistic and ethical. The ﬁrst are exercises borrowed from school: question-and-answer games. This must be an ethical game; that is, it must teach a moral lesson. The second are more ambulatory exercises. In the morning you go for a walk, and you test your reactions to that walk. The purpose of both exercises is control of representations, not the deciphering of truth. They are reminders about conforming to the rules in the face of adversity. A pre-Freudian machine of censorship is described word for word in the tests of Epictetus and Cassian. For Epictetus, the control of representations means not deciphering but recalling principles of acting and thus seeing, through self-examination, if they govern your life. It is a kind of permanent self-examination. You have to be your own censor. The meditation on death is the culmination of all these exercises.\n",
        "\n",
        "In addition to letters, examination, and askesis, we must now evoke a fourth technique in the examination of the self, the interpretation of dreams. It was to have an important destiny in the nineteenth century, but it occupied a relatively marginal position in the ancient world. Philosophers had an ambivalent attitude toward the interpretation of dreams. Most Stoics are critical and skeptical about such interpretation. But there is still the popular and general practice of it. There were experts who were able to interpret dreams, including Pythagoras and some of the Stoics, and some experts who wrote books to teach people to interpret their own dreams. There were huge amounts of literature on how to do it, but the only surviving manual The Interpretation of Dreams by Artemidorus (second century A.D.). Dream interpretation was important because in antiquity the meaning of a dream was an announcement of a future event.\n",
        "\n",
        "I should mention two other documents dealing with the importance of dream interpretation for everyday life. The ﬁrst is by Synesius of Cyrene in the fourth century A.D. He was well known and cultivated. Even though he was not a Christian, he asked to be a bishop. His remarks on dreams are interesting, for public divination was forbidden in order to spare the emperor bad news. Therefore, one had to interpret one’s own dreams; one had to be a self-interpreter. To do it, one had to remember not only one’s dreams but the events before and after. One had to record what happened every day, both the life of the day and the life of the night.\n",
        "\n",
        "Aelius Aristides’ Sacred Discourses, written in the second century, records his dreams and explains how to interpret them. He believed that in the interpretation of dreams we receive advice from the gods about remedies for illness. With this work, we are at the crossing point of two kinds of discourses. It isn’t the writing of self’s daily activities that is the matrix of the Sacred Discourses but the ritual inscription of praises to the gods that have healed one.\n",
        "\n",
        "V\n",
        "I wish to examine the scheme of one of the main techniques of the self in early Christianity and what it was as a truth game. To do so, I must look at the transition from pagan to Christian culture in which it is possible to see clear-cut continuities and discontinuities.\n",
        "\n",
        "Christianity is not only a salvation religion, it is a confessional religion. It imposes very strict obligations of truth, dogma, and canon, more so than do the pagan religions. Truth obligations to believe this or that were and are still very numerous. The duty to accept a set of obligations, to hold certain books as permanent truth, to accept authoritarian decisions in matters of truth, not only to believe certain things but to show that one believes, and to accept institutional authority are all characteristic of Christianity.\n",
        "\n",
        "Christianity requires anther form of truth obligation different from faith. Each person has the duty to know who he is, that is, to try to know what is happening inside him, to acknowledge faults, to recognize temptations, to locate desires, and everyone is obliged to disclose these things to either to God or to others in the community and hence to bear public or private witness against oneself. The truth obligations of faith and the self are linked together. This link permits a puriﬁcation of the soul impossible without self-knowledge.\n",
        "\n",
        "It’s not the same in the Catholic as in the Reform tradition. But the main features of both are an ensemble of truth obligations dealing with faith, books, dogma, and one dealing with truth, heart and soul. Access to truth cannot be conceived of without purity of the soul. Purity of the soul is the consequence of self-knowledge and a condition for understanding the text; in Augustine: Quis facit vertatem (to make truth in oneself, to get access to the light).\n",
        "\n",
        "I’d like to analyze the ways by which, in order to get access to the light, the church conceived of illumination: the disclosure of the self. The sacrament of penance and the confession of sins are rather late innovations. Christians of the ﬁrst centuries had different forms for discovering and deciphering truth about themselves. One of the two main forms of those disclosures can be characterized by the word exomologesis, or “recognition of fact”. Even the Latin fathers used this Greek term with no exact translation. For Christians it meant to recognize publicly the truth of their faith or to recognize publicly that they were Christians.\n",
        "\n",
        "The word also had a penitential meaning. When a sinner seeks penance, he must visit a bishop and ask for it. In early Christianity, penitence was not an act or a ritual but a status imposed on somebody who had committed very serious sins.\n",
        "\n",
        "Exomologesis was a ritual of recognizing oneself as a sinner and a penitent. It had several characteristics. First, you were penitent for four to ten years, and this status affected your life. There was fasting, and there were rules about clothing and prohibitions about sex. The individual was marked so he couldn’t live the same life as others. Even after his reconciliation, he suffered from a number of prohibitions; for example, he could not marry or become a priest.\n",
        "\n",
        "Within this status you ﬁnd the obligation of exomologesis. The sinner seeks his penance. He visits the bishop and asks the bishop to impose on him the status of a penitent. He must explain why he wants the status, and he has to explain his faults. This was not a confession; it was a condition of the status. Later, in the medieval period, exomologesis became a ritual which took place at the end of the period of penance just before reconciliation. This ceremony placed him among the other Christians. Of this recognition ceremony, Tertullian says that wearing a hair shirt and ashes, wretchedly dressed, the sinner stands humbled before the church. Then he prostrates himself and kisses the brethren’s knees (On Repentance 9 - 12). Exomologesis is not a verbal behavior but the dramatic recognition of one’s status as a penitent. Much later, in the Epistles of Jerome, there is a description of the penitence of Fabiola, a Roman lady. During these days, Fabiola was in the ranks of penitents. People wept with her, lending drama to her public chastisement.\n",
        "\n",
        "Recognition also designates the entire process that the penitent experiences in this status over the years. He is the aggregate of manifested penitential behavior, of self-punishment as well as of self-revelation. The acts by which he punishes himself are indistinguishable from the acts by which he reveals himself. Self-punishment and the voluntary expression of the self are bound together. This link is evident in many writings. Cyprian, for example, talks of exhibitions of shame and modesty. Penance is not nominal but dramatic.\n",
        "\n",
        "To prove suffering, to show shame, to make visible humility and exhibit modesty - these are the main features of punishment.\n",
        "Penitence in early Christianity is a way of life acted out at all times by accepting the obligation to disclose oneself. It must be visibly represented and accompanied by others who recognize the ritual. This approach endured until the ﬁfteenth and sixteenth centuries.\n",
        "\n",
        "Tertullian uses the term publicatio sui to characterize exomologesis. Publicatio sui is related to Seneca’s daily self-examination, which was, however, completely private. For Seneca, exomologesis or pulicatio sui doesn’t imply verbal analysis of deeds or thoughts; it is only a somatic and symbolic expression. What was private for the Stoics was public for the Christians.\n",
        "\n",
        "What were its functions? First, this publication was a way to rub out sin and to restore the purity acquired by baptism.\n",
        "Second, it was also to show a sinner as he is. That’s the paradox at the heart of exomologesis; it rubs out the sin and yet reveals the sinner. The greater part of the act of penitence was not telling the truth of sin but showing the true sinful being of the sinner. It was not a way for the sinner to explain his sins but a way to present himself as a sinner.\n",
        "\n",
        "Why should showing forth efface the sins? Exposé is the heart of exomologesis. In the Christianity of the ﬁrst centuries, Christian authors had recourse to three models to explain the relation between the paradox of rubbing out sins and disclosing oneself.\n",
        "\n",
        "The ﬁrst is the medical model: One must show one’s wounds in order to be cured. Another model, which was less frequent, was the tribunal model of judgement. One always appeases one’s judge by confessing faults. The sinner plays devil’s advocate, as will the devil on the Day of Judgement.\n",
        "\n",
        "The most important model used to explain exomologesis was the model of death, of torture, or of martyrdom. The theories and practices of penance were elaborated around the problem of the man who prefers to die rather than to compromise or abandon the faith. The way the martyr faces death is the model for the penitent. For the relapsed to be reintegrated into the church, he must expose himself voluntarily to ritual martyrdom. Penance is the affect of change, of rupture with self, past and world. It’s a way to show that you are able to renounce life and self, to show that you can face and accept death. Penitence of sin doesn’t have as its target the establishing of an identity but serves instead to mark the refusal of the self, the breaking away from self: Ego non sum, ego. This formula is at the heart of publicatio sui. It represents a break with one’s past identity. These ostentatious gestures have the function of showing the truth of the state of being the sinner. Self-revelation is at the same time self-destruction.\n",
        "\n",
        "The difference between Stoic and Christian traditions is that in the Stoic tradition examination of the self, judgement, and discipline show the way to self-knowledge by superimposing truth about self through memory, that is, by memorizing the rules. In exomologesis, the penitent superimposes truth about self by violent rupture and dissociation. It is important to emphasize that this exomologesis is not verbal. It is symbolic, ritual, and theatrical.\n",
        "\n",
        "VI\n",
        "During the fourth century we ﬁnd a very different technology for the disclosure of the self, exagoreeusis, much less famous than exomologesis but more important. This one is reminiscent of the verbalizing exercises in relation to a teacher/master of the pagan philosophical schools. We can see the transfer of several Stoic technologies of the self to Christian spiritual techniques.\n",
        "\n",
        "At least one example of self-examination, proposed by John Chrysostom, was exactly the same form and the same administrative character as that described by Seneca in De Ira. In the morning we must take account of our expenses, and in the evening we must ask ourselves to render account of our conduct of ourselves, to examine what is to our advantage and what is prejudicial against us, with prayers instead of indiscrete words. That is exactly the Senecan style of self-examination. It also important to note that this self-examination is rare in Christian literature.\n",
        "\n",
        "The well-developed and elaborated practice of the self-examination in monastic Christianity is different from the Senecan self-examination and very different from the Chryssostom and from exomologesis. This new kind of practice must be understood from the point of view of two principles of Christian spirituality : obedience and contemplation.\n",
        "\n",
        "In Seneca, the relationship of the disciple with the master was important, but it was instrumental and professional. It was founded on the capacity of the master to lead the disciple to a happy and autonomous life through good advice. The relationship would end when the disciple got access to that life.\n",
        "\n",
        "For a long series of reasons, obedience has a very different character in monastic life. It differs from the Greco-Roman type of relation to the master in the sense that obedience isn’t based just upon a need for self-improvement but must bear on all aspects of a monk’s life. There is no element in the life of the of the monk which may escape from this fundamental and permanent relation of total obedience to the master. John Cassian repeats an old principle from the oriental tradition: “Everything the monk does without permission of his master constitutes a theft.” Here obedience is complete control of behavior by the master, not a ﬁnal autonomous state. It is a sacriﬁce of the self, of the subject’s own will. This is the new technology of the self.\n",
        "\n",
        "The monk must have the permission of his director to do anything, even die. Everything he does without permission is stealing. There is not a single moment when the monk can be autonomous. Even when he becomes a director himself, he must retain the spirit of obedience. He must keep the spirit of obedience as a permanent sacriﬁce of the complete control of behavior by the master. The self must constitute self through obedience.\n",
        "\n",
        "The second feature of monastic life is that contemplation is considered the supreme good. It is the obligation of the monk to turn his thoughts continuously to that point which is God and to make sure that his heart is pure enough to see God. The goal is permanent contemplation of God.\n",
        "\n",
        "The technology of the self, which developed from obedience and contemplation in the monastery, presents some peculiar characteristics. Cassian gives a rather clear exposition of this technology of the self, a principle of self-examination which he borrowed from the Syrian and Egyptian monastic traditions.\n",
        "\n",
        "This technology of self-examination of Oriental origins, dominated by obedience and contemplation, is much more concerned with the thought than with action. Seneca had placed his stress on action. With Cassian the object is not past actions of the day; it’s the present thoughts. Since the monk must continuously turn his thoughts toward God, he must scrutinize the actual course of his thought. This scrutiny thus has as its object the permanent discrimination between thoughts which lead toward God and those which don’t. This continual concern with the present is different from the Senecan memorization of deeds and their correspondence with rules. It is what the Greeks referred to with a pejorative word: logismoi (“cogitations, reasoning, calculating thought”).\n",
        "\n",
        "There is an etymology of logismoi in Cassian, but I don’t know if it’s sound co-agitationes. The spirit is polukinetos, “perpetually moving” (First Conference of Abbot Serenus 4). In Cassian, perpetual mobility of spirit is the spirit’s weakness. It distracts one from contemplation of God (First Conference of Abbot Nesterus 13)\n",
        "\n",
        "The scrutiny of conscience consists of trying to immobilize consciousness, to eliminate movements of the spirit that divert one from God. That means that we have to examine any thought which presents itself to consciousness to see the relation between act and thought, truth and reality, to see if there is anything in this thought which will move our spirit, provoke our desire, turn our spirit away from God. The scrutiny is based on the idea of a secret concupiscence.\n",
        "\n",
        "There are three major types of self-examination: ﬁrst, self-examination with respect to thoughts in correspondence to reality (Cartesian); second, self-examination with respect to the way our thoughts relate to rules (Senecan), third, the examination of self with respect to the relation between the hidden thought and an inner impurity. At this moment begins the Christian hermeneutics of the self with its deciphering of inner thoughts. It implies that there is something hidden in ourselves and that we are always in a self-illusion which hides the secret.\n",
        "\n",
        "In order to make this kind of scrutiny, Cassian says we have to care for ourselves, to attest our thoughts directly. He gives three analogies. First is the analogy of the mill (First Conference of Abbot Moses 18). Thoughts are like grains, and consciousness is the mill store. It is our role as the miller to sort out amongst the grains those which are bad and those which can be admitted to the mill store to give the good ﬂour and good bread of our salvation.\n",
        "\n",
        "Second, Cassian makes military analogies (First Conference of Abbot Serenus 5). He uses the analogy of the ofﬁcer who orders the good soldiers to march to the right, the bad to the left. We must act like ofﬁcers who divide soldiers into two ﬁles, the good and the bad.\n",
        "\n",
        "Third, he uses the analogy of a money changer (First Conference of Abbot Moses 20 - 22). Conscience is the money changer of the self. It must examine coins, their efﬁgy, their metal, where they came from. It must weigh them to see if they have been ill used. As there is the image of the emperor on money, so must the image of God be on our thoughts. We must verify the quality of the thought: This efﬁgy of God, is it real? What is its degree of purity? Is it mixed with desire or concupiscence? Thus, we ﬁnd the same image as in Seneca, but with a different meaning.\n",
        "\n",
        "Since we have as our role to be a permanent money changer of ourselves, how is it possible to make this discrimination and recognize if a thought is of good quality? How can this “discrimination” actively be done? There is only one way: to tell all thoughts to our director, to be obedient to our master in all things, to engage in the permanent verbalization of all our thoughts. In Cassian, self-examination is subordinated to obedience and the permanent verbalization of thoughts. Neither is true of Stoicism. By telling himself not only his thoughts but also the smallest movements of consciousness, his intentions, the monk stands in a hermeneutic relation not only to the master but to himself. This verbalization is the touchstone or the money of thought.\n",
        "\n",
        "Why is confession able to assume this hermeneutical role? How can we be the hermeneuts of ourselves in speaking and transcribing all of our thoughts? Confession permits the master to know because of his greater experience and wisdom and therefore to give better advice. Even if the master, in his role as a discriminating power, doesn’t say anything, the fact that the thought has been expressed will have an effect of discrimination.\n",
        "\n",
        "Cassian gives an example of the monk who stole bread. At ﬁrst he can’t tell. The difference between good and evil thoughts is that evil thoughts can’t be expressed without difﬁculty, for evil is hidden and un-stated. Because evil thoughts cannot be expressed without difﬁculty and shame, the cosmological difference between light and dark, between verbalization and sin, secrecy and silence, between God and the devil, may not emerge. Then the monk prostrates himself and confesses. Only when he confesses verbally does the devil go out of him. The verbal expression is the crucial moment (Second Conference of Abbot Moses II). Confession is a mark of truth. This idea of the permanent verbal is only an ideal. It is never completely possible. But the price of permanent verbal was to make everything that couldn’t be expressed into a sin.\n",
        "\n",
        "In conclusion, in the Christianity of the ﬁrst centuries, there are two main forms of disclosing self, of showing the truth about oneself. The ﬁrst is exomologesis, or a dramatic expression of the situation of the penitent as sinner which makes manifest his status as sinner. The second is what was called in the spiritual literature exagoresis. This is an analytical and continual verbalization of thoughts carried on in the relation of complete obedience to someone else. This relation is modelled on the renunciation of one’s own will and of one’s own self.\n",
        "\n",
        "There is a great difference between exomologesis and exagoreusis; yet we have to underscore the fact that there is one important element in common: You cannot disclose without renouncing. Exomologesis had as its model martyrdom. In exomologesis, the sinner had to “kill” himself through ascetic macerations. Whether through martyrdom or through obedience to a master, disclosure of self is the renunciation of one’s own self. In exagoresis, on the other hand, you show that, in permanently obeying the master, you are renouncing your will and yourself. This practice continues from the beginning of Christianity to the seventeenth century. The inauguration of penance in the in the thirteenth century is an important step in its rise.\n",
        "\n",
        "This theme of self-renunciation is very important. Throughout Christianity there is a correlation between disclosure of the self, dramatic or verbalized, and the renunciation of self. My hypothesis from looking at these two techniques is that it’s the second one, verbalization, which becomes more important. From the eighteenth century to the present, the techniques of verbalization have been reinserted in a different context by the so called human sciences in order to use them without renunciation of the self but to constitute, positively, a new self. To use these techniques without renouncing oneself constitutes a decisive break.\n",
        "\n",
        "\n",
        "This lecture was followed by an interview conducted by R. Martin on October 25th, 1982.\"\"\"\n",
        "\n",
        "# Write the text into a .txt file\n",
        "with open(\"mytext.txt\", \"w\", encoding=\"utf-8\") as f:\n",
        "    f.write(text)\n",
        "\n",
        "print(\"✅ Saved mytext.txt\")\n",
        "\n",
        "# Load your saved .txt file\n",
        "with open(\"mytext.txt\", encoding=\"utf-8\") as f:\n",
        "    raw = f.read()\n",
        "\n",
        "print(raw[:500])  # print first 500 characters\n",
        "\n"
      ]
    },
    {
      "cell_type": "markdown",
      "id": "f60cb2b1",
      "metadata": {
        "id": "f60cb2b1"
      },
      "source": [
        "\n",
        "**Q:** Which text did you choose and why? *(Write a 1–2 sentence note below.)*\n"
      ]
    },
    {
      "cell_type": "code",
      "execution_count": 22,
      "id": "b98b454a",
      "metadata": {
        "id": "b98b454a",
        "colab": {
          "base_uri": "https://localhost:8080/"
        },
        "outputId": "8344515d-e13b-4c94-afcc-88620080113b"
      },
      "outputs": [
        {
          "output_type": "stream",
          "name": "stdout",
          "text": [
            "\n",
            "This text is about how we think of the power of authority brought with the technologies, and how techonologies reshaped the definition of the self.\n",
            "\n",
            "\n",
            "This text is about how we think of the power of authority brought with the technologies, and how techonologies reshaped the definition of the self.\n",
            "\n"
          ]
        }
      ],
      "source": [
        "\n",
        "# Your short reflection:\n",
        "choice_note = \"\"\"\n",
        "This text is about how we think of the power of authority brought with the technologies, and how techonologies reshaped the definition of the self.\n",
        "\"\"\"\n",
        "print(choice_note)\n"
      ]
    },
    {
      "cell_type": "markdown",
      "id": "7fc2e3e5",
      "metadata": {
        "id": "7fc2e3e5"
      },
      "source": [
        "\n",
        "## Part B — Tokenize & Explore (10 min)\n",
        "Lowercase and keep only alphabetic tokens (drop punctuation/numbers) for a quick clean view.\n"
      ]
    },
    {
      "cell_type": "code",
      "execution_count": 23,
      "id": "ea7ba1f7",
      "metadata": {
        "id": "ea7ba1f7",
        "colab": {
          "base_uri": "https://localhost:8080/"
        },
        "outputId": "0bf1d6a9-f3cf-43d1-f2d3-d8996c461be3"
      },
      "outputs": [
        {
          "output_type": "execute_result",
          "data": {
            "text/plain": [
              "(11147,\n",
              " ['technologies',\n",
              "  'of',\n",
              "  'the',\n",
              "  'lectures',\n",
              "  'at',\n",
              "  'university',\n",
              "  'of',\n",
              "  'vermont',\n",
              "  'in',\n",
              "  'technologies'])"
            ]
          },
          "metadata": {},
          "execution_count": 4
        },
        {
          "output_type": "execute_result",
          "data": {
            "text/plain": [
              "(11147,\n",
              " ['technologies',\n",
              "  'of',\n",
              "  'the',\n",
              "  'lectures',\n",
              "  'at',\n",
              "  'university',\n",
              "  'of',\n",
              "  'vermont',\n",
              "  'in',\n",
              "  'technologies'])"
            ]
          },
          "metadata": {},
          "execution_count": 23
        }
      ],
      "source": [
        "\n",
        "from nltk.tokenize import word_tokenize\n",
        "\n",
        "# Tokenize: split into tokens, lowercase them, keep alphabetic tokens only\n",
        "tokens = [w.lower() for w in word_tokenize(raw) if w.isalpha()]\n",
        "len(tokens), tokens[:10]\n"
      ]
    },
    {
      "cell_type": "code",
      "source": [
        "import re\n",
        "import nltk\n",
        "from nltk.corpus import stopwords, wordnet\n",
        "from nltk.stem import WordNetLemmatizer\n",
        "from nltk import pos_tag, FreqDist\n",
        "from nltk.tokenize import RegexpTokenizer\n",
        "\n",
        "def wordnet_pos(tag):\n",
        "    return {\"J\": wordnet.ADJ, \"N\": wordnet.NOUN, \"V\": wordnet.VERB, \"R\": wordnet.ADV}.get(tag[0], wordnet.NOUN)\n",
        "\n",
        "# 1) Tokenize & normalize (safer)\n",
        "def tokenize_norm(text):\n",
        "    tok = RegexpTokenizer(r\"[A-Za-z0-9]+\")  # keeps alphanumeric runs, drops punctuation\n",
        "    return [t.lower() for t in tok.tokenize(text)]\n",
        "\n",
        "# 2) Remove stopwords\n",
        "def remove_stopwords(toks):\n",
        "    stops = set(stopwords.words(\"english\"))\n",
        "    return [t for t in toks if t not in stops]\n",
        "\n",
        "# 3–4) POS-tag once, then lemmatize\n",
        "def pos_lemmatize(toks):\n",
        "    tags = pos_tag(toks)\n",
        "    lem = WordNetLemmatizer()\n",
        "    return [lem.lemmatize(t, wordnet_pos(tag)) for t, tag in tags]\n",
        "\n",
        "def run_pipeline(text):\n",
        "    toks = tokenize_norm(text)\n",
        "    toks_nostop = remove_stopwords(toks)\n",
        "    clean = pos_lemmatize(toks_nostop)\n",
        "    return toks, toks_nostop, clean\n"
      ],
      "metadata": {
        "id": "GGKBiwVWfuJY"
      },
      "id": "GGKBiwVWfuJY",
      "execution_count": 24,
      "outputs": []
    },
    {
      "cell_type": "markdown",
      "id": "662866aa",
      "metadata": {
        "id": "662866aa"
      },
      "source": [
        "\n",
        "**Questions:**  \n",
        "1) How many tokens (words) are in your text?  \n",
        "2) List 5 tokens you expected to see. Were they present?\n"
      ]
    },
    {
      "cell_type": "markdown",
      "source": [
        "11147 is in this text,"
      ],
      "metadata": {
        "id": "2BW2o8Kic-hs"
      },
      "id": "2BW2o8Kic-hs"
    },
    {
      "cell_type": "code",
      "source": [
        "processed_text, _, clean = run_pipeline(raw)"
      ],
      "metadata": {
        "collapsed": true,
        "id": "yHE0Vr0SfZnN"
      },
      "id": "yHE0Vr0SfZnN",
      "execution_count": 25,
      "outputs": []
    },
    {
      "cell_type": "code",
      "source": [
        "pos_lemmatize(['technologies'])"
      ],
      "metadata": {
        "colab": {
          "base_uri": "https://localhost:8080/"
        },
        "id": "HdPUSWJekBiC",
        "outputId": "baf0bd7a-ccc4-4883-b7e5-8ebb08d58b9a"
      },
      "id": "HdPUSWJekBiC",
      "execution_count": 26,
      "outputs": [
        {
          "output_type": "execute_result",
          "data": {
            "text/plain": [
              "['technology']"
            ]
          },
          "metadata": {},
          "execution_count": 7
        },
        {
          "output_type": "execute_result",
          "data": {
            "text/plain": [
              "['technology']"
            ]
          },
          "metadata": {},
          "execution_count": 26
        }
      ]
    },
    {
      "cell_type": "code",
      "source": [
        "display(clean[:100])"
      ],
      "metadata": {
        "colab": {
          "base_uri": "https://localhost:8080/",
          "height": 1000
        },
        "id": "DKPWm32_mcMu",
        "outputId": "f80b3716-21a3-4c48-d16f-a2657ba6c452"
      },
      "id": "DKPWm32_mcMu",
      "execution_count": 27,
      "outputs": [
        {
          "output_type": "display_data",
          "data": {
            "text/plain": [
              "['technology',\n",
              " 'self',\n",
              " 'lecture',\n",
              " 'university',\n",
              " 'vermont',\n",
              " 'oct',\n",
              " '1982',\n",
              " 'technology',\n",
              " 'self',\n",
              " '16',\n",
              " '49',\n",
              " 'univ',\n",
              " 'massachuset',\n",
              " 'press',\n",
              " '1988',\n",
              " 'begin',\n",
              " 'study',\n",
              " 'rule',\n",
              " 'duty',\n",
              " 'prohibition',\n",
              " 'sexuality',\n",
              " 'interdiction',\n",
              " 'restriction',\n",
              " 'associate',\n",
              " 'concerned',\n",
              " 'simply',\n",
              " 'act',\n",
              " 'permit',\n",
              " 'forbidden',\n",
              " 'feeling',\n",
              " 'represent',\n",
              " 'thought',\n",
              " 'desire',\n",
              " 'one',\n",
              " 'might',\n",
              " 'experience',\n",
              " 'drive',\n",
              " 'seek',\n",
              " 'within',\n",
              " 'self',\n",
              " 'hide',\n",
              " 'feel',\n",
              " 'movement',\n",
              " 'soul',\n",
              " 'desire',\n",
              " 'disguise',\n",
              " 'illusory',\n",
              " 'form',\n",
              " 'signi',\n",
              " 'cant',\n",
              " 'difference',\n",
              " 'interdiction',\n",
              " 'sexuality',\n",
              " 'form',\n",
              " 'interdiction',\n",
              " 'unlike',\n",
              " 'interdiction',\n",
              " 'sexual',\n",
              " 'interdiction',\n",
              " 'constantly',\n",
              " 'connect',\n",
              " 'obligation',\n",
              " 'tell',\n",
              " 'truth',\n",
              " 'oneself',\n",
              " 'two',\n",
              " 'fact',\n",
              " 'may',\n",
              " 'object',\n",
              " 'rst',\n",
              " 'confession',\n",
              " 'play',\n",
              " 'important',\n",
              " 'part',\n",
              " 'penal',\n",
              " 'religious',\n",
              " 'institution',\n",
              " 'offenses',\n",
              " 'sex',\n",
              " 'task',\n",
              " 'analyze',\n",
              " 'one',\n",
              " 'sexual',\n",
              " 'desire',\n",
              " 'always',\n",
              " 'important',\n",
              " 'analyze',\n",
              " 'kind',\n",
              " 'sin',\n",
              " 'also',\n",
              " 'aware',\n",
              " 'second',\n",
              " 'objection',\n",
              " 'sexual',\n",
              " 'behavior',\n",
              " 'submit',\n",
              " 'strict',\n",
              " 'rule',\n",
              " 'secrecy',\n",
              " 'decency']"
            ]
          },
          "metadata": {}
        },
        {
          "output_type": "display_data",
          "data": {
            "text/plain": [
              "['technology',\n",
              " 'self',\n",
              " 'lecture',\n",
              " 'university',\n",
              " 'vermont',\n",
              " 'oct',\n",
              " '1982',\n",
              " 'technology',\n",
              " 'self',\n",
              " '16',\n",
              " '49',\n",
              " 'univ',\n",
              " 'massachuset',\n",
              " 'press',\n",
              " '1988',\n",
              " 'begin',\n",
              " 'study',\n",
              " 'rule',\n",
              " 'duty',\n",
              " 'prohibition',\n",
              " 'sexuality',\n",
              " 'interdiction',\n",
              " 'restriction',\n",
              " 'associate',\n",
              " 'concerned',\n",
              " 'simply',\n",
              " 'act',\n",
              " 'permit',\n",
              " 'forbidden',\n",
              " 'feeling',\n",
              " 'represent',\n",
              " 'thought',\n",
              " 'desire',\n",
              " 'one',\n",
              " 'might',\n",
              " 'experience',\n",
              " 'drive',\n",
              " 'seek',\n",
              " 'within',\n",
              " 'self',\n",
              " 'hide',\n",
              " 'feel',\n",
              " 'movement',\n",
              " 'soul',\n",
              " 'desire',\n",
              " 'disguise',\n",
              " 'illusory',\n",
              " 'form',\n",
              " 'signi',\n",
              " 'cant',\n",
              " 'difference',\n",
              " 'interdiction',\n",
              " 'sexuality',\n",
              " 'form',\n",
              " 'interdiction',\n",
              " 'unlike',\n",
              " 'interdiction',\n",
              " 'sexual',\n",
              " 'interdiction',\n",
              " 'constantly',\n",
              " 'connect',\n",
              " 'obligation',\n",
              " 'tell',\n",
              " 'truth',\n",
              " 'oneself',\n",
              " 'two',\n",
              " 'fact',\n",
              " 'may',\n",
              " 'object',\n",
              " 'rst',\n",
              " 'confession',\n",
              " 'play',\n",
              " 'important',\n",
              " 'part',\n",
              " 'penal',\n",
              " 'religious',\n",
              " 'institution',\n",
              " 'offenses',\n",
              " 'sex',\n",
              " 'task',\n",
              " 'analyze',\n",
              " 'one',\n",
              " 'sexual',\n",
              " 'desire',\n",
              " 'always',\n",
              " 'important',\n",
              " 'analyze',\n",
              " 'kind',\n",
              " 'sin',\n",
              " 'also',\n",
              " 'aware',\n",
              " 'second',\n",
              " 'objection',\n",
              " 'sexual',\n",
              " 'behavior',\n",
              " 'submit',\n",
              " 'strict',\n",
              " 'rule',\n",
              " 'secrecy',\n",
              " 'decency']"
            ]
          },
          "metadata": {}
        }
      ]
    },
    {
      "cell_type": "markdown",
      "id": "9c014826",
      "metadata": {
        "id": "9c014826"
      },
      "source": [
        "\n",
        "## Part C — Keyword in Context (10 min)\n",
        "Use *concordance* to see your keywords in context.\n"
      ]
    },
    {
      "cell_type": "code",
      "execution_count": 28,
      "id": "21a6358a",
      "metadata": {
        "id": "21a6358a",
        "colab": {
          "base_uri": "https://localhost:8080/"
        },
        "outputId": "d9654fb1-71d6-4205-aea2-b10bc361eb95"
      },
      "outputs": [
        {
          "output_type": "stream",
          "name": "stdout",
          "text": [
            "Displaying 20 of 105 matches:\n",
            "at university of vermont in technologies of the self univ of massachusets press i when i began to st\n",
            " might experience the drives to seek within the self any hidden feeling any movement of the soul any\n",
            "according to true principles what part of one s self should one renounce what is the ascetic price o\n",
            "ived at the hermeneutics of technologies of the self in pagan and early christian practice i encount\n",
            "tual hermeneutics third the hermeneutics of the self has been confused with theologies of the sin an\n",
            "he fall from grace fourth a hermeneutics of the self has been diffused across western culture throug\n",
            "bjectivizing of the subject technologies of the self which permit individuals to effect by their own\n",
            "the last two the technologies of domination and self which have most kept my attention i have attemp\n",
            "owledge with respect to both domination and the self for example i studied madness not in terms of t\n",
            "logies of domination of others and those of the self i call governmentality perhaps i ve insisted to\n",
            "dividual acts upon himself in the technology of self the development of technologies of the self i w\n",
            " of self the development of technologies of the self i wish to sketch out the development of the her\n",
            " out the development of the hermeneutics of the self in two different contexts which are historicall\n",
            "autou to take care of yourself the concern with self to be concerned to take care of yourself the pr\n",
            " for some possible analysis for the care of the self in ancient culture i would like to analyze the \n",
            "rent forms of care there are different forms of self summary there are several reasons why know your\n",
            "basis for morality how then can respect for the self be the basis for morality we are the inheritors\n",
            "f the importance of recognizing and knowing the self therefore it is difﬁcult to see concern with on\n",
            "ality a morality of asceticism insists that the self is that which one can reject the second reason \n",
            "ophy from descartes to husserl knowledge of the self the thinking subject takes on an importance as \n",
            "Displaying 4 of 4 matches:\n",
            "anings symbols or signiﬁcation technologies of power which determine the conduct of individuals and\n",
            "d too much in the technology of domination and power i am more and more interested in the interacti\n",
            " birth and heritage he wishes to gain personal power over all others both inside and outside the ci\n",
            " if the master in his role as a discriminating power doesn t say anything the fact that the thought\n",
            "Displaying 7 of 7 matches:\n",
            "tality perhaps i ve insisted too much in the technology of domination and power i am more and more i\n",
            "f how an individual acts upon himself in the technology of self the development of technologies of t\n",
            "g the fourth century we ﬁnd a very different technology for the disclosure of the self exagoreeusis \n",
            "lf of the subject s own will this is the new technology of the self the monk must have the permissio\n",
            "e goal is permanent contemplation of god the technology of the self which developed from obedience a\n",
            "sian gives a rather clear exposition of this technology of the self a principle of which he borrowed\n",
            "syrian and egyptian monastic traditions this technology of of oriental origins dominated by obedienc\n",
            "Displaying 4 of 4 matches:\n",
            "anings symbols or signiﬁcation technologies of power which determine the conduct of individuals and\n",
            "d too much in the technology of domination and power i am more and more interested in the interacti\n",
            " birth and heritage he wishes to gain personal power over all others both inside and outside the ci\n",
            " if the master in his role as a discriminating power doesn t say anything the fact that the thought\n",
            "Displaying 3 of 3 matches:\n",
            "fted young man who wanted to stand apart from politics and practice virtue should study the alcibiad\n",
            " makes his transition in speciﬁc ways in both politics and love an ambivalence is evident in alcibia\n",
            "s become a universal principle one must leave politics to take better care of the self second the co\n",
            "Displaying 5 of 5 matches:\n",
            "o seek within the self any hidden feeling any movement of the soul any desire disguised under illuso\n",
            "ly different meaning gregory did not mean the movement by which one takes care of oneself and the ci\n",
            "kes care of oneself and the city he meant the movement by which one renounces the world and marriage\n",
            "biades tries to ﬁnd the self in a dialectical movement when you take care of the body you don t take\n",
            "ou must try to decipher it at the root of the movement which brings you the representations there is\n",
            "Displaying 20 of 105 matches:\n",
            "at university of vermont in technologies of the self univ of massachusets press i when i began to st\n",
            " might experience the drives to seek within the self any hidden feeling any movement of the soul any\n",
            "according to true principles what part of one s self should one renounce what is the ascetic price o\n",
            "ived at the hermeneutics of technologies of the self in pagan and early christian practice i encount\n",
            "tual hermeneutics third the hermeneutics of the self has been confused with theologies of the sin an\n",
            "he fall from grace fourth a hermeneutics of the self has been diffused across western culture throug\n",
            "bjectivizing of the subject technologies of the self which permit individuals to effect by their own\n",
            "the last two the technologies of domination and self which have most kept my attention i have attemp\n",
            "owledge with respect to both domination and the self for example i studied madness not in terms of t\n",
            "logies of domination of others and those of the self i call governmentality perhaps i ve insisted to\n",
            "dividual acts upon himself in the technology of self the development of technologies of the self i w\n",
            " of self the development of technologies of the self i wish to sketch out the development of the her\n",
            " out the development of the hermeneutics of the self in two different contexts which are historicall\n",
            "autou to take care of yourself the concern with self to be concerned to take care of yourself the pr\n",
            " for some possible analysis for the care of the self in ancient culture i would like to analyze the \n",
            "rent forms of care there are different forms of self summary there are several reasons why know your\n",
            "basis for morality how then can respect for the self be the basis for morality we are the inheritors\n",
            "f the importance of recognizing and knowing the self therefore it is difﬁcult to see concern with on\n",
            "ality a morality of asceticism insists that the self is that which one can reject the second reason \n",
            "ophy from descartes to husserl knowledge of the self the thinking subject takes on an importance as \n",
            "Displaying 4 of 4 matches:\n",
            "anings symbols or signiﬁcation technologies of power which determine the conduct of individuals and\n",
            "d too much in the technology of domination and power i am more and more interested in the interacti\n",
            " birth and heritage he wishes to gain personal power over all others both inside and outside the ci\n",
            " if the master in his role as a discriminating power doesn t say anything the fact that the thought\n",
            "Displaying 7 of 7 matches:\n",
            "tality perhaps i ve insisted too much in the technology of domination and power i am more and more i\n",
            "f how an individual acts upon himself in the technology of self the development of technologies of t\n",
            "g the fourth century we ﬁnd a very different technology for the disclosure of the self exagoreeusis \n",
            "lf of the subject s own will this is the new technology of the self the monk must have the permissio\n",
            "e goal is permanent contemplation of god the technology of the self which developed from obedience a\n",
            "sian gives a rather clear exposition of this technology of the self a principle of which he borrowed\n",
            "syrian and egyptian monastic traditions this technology of of oriental origins dominated by obedienc\n",
            "Displaying 4 of 4 matches:\n",
            "anings symbols or signiﬁcation technologies of power which determine the conduct of individuals and\n",
            "d too much in the technology of domination and power i am more and more interested in the interacti\n",
            " birth and heritage he wishes to gain personal power over all others both inside and outside the ci\n",
            " if the master in his role as a discriminating power doesn t say anything the fact that the thought\n",
            "Displaying 3 of 3 matches:\n",
            "fted young man who wanted to stand apart from politics and practice virtue should study the alcibiad\n",
            " makes his transition in speciﬁc ways in both politics and love an ambivalence is evident in alcibia\n",
            "s become a universal principle one must leave politics to take better care of the self second the co\n",
            "Displaying 5 of 5 matches:\n",
            "o seek within the self any hidden feeling any movement of the soul any desire disguised under illuso\n",
            "ly different meaning gregory did not mean the movement by which one takes care of oneself and the ci\n",
            "kes care of oneself and the city he meant the movement by which one renounces the world and marriage\n",
            "biades tries to ﬁnd the self in a dialectical movement when you take care of the body you don t take\n",
            "ou must try to decipher it at the root of the movement which brings you the representations there is\n"
          ]
        }
      ],
      "source": [
        "from nltk.text import Text\n",
        "T = Text(tokens)\n",
        "\n",
        "# Try two policy keywords of interest (edit these):\n",
        "T.concordance(\"self\", width=100, lines=20)\n",
        "T.concordance(\"power\", width=100, lines=20)\n",
        "T.concordance(\"technology\", width=100, lines=20)\n",
        "T.concordance(\"power\", width=100, lines=20)\n",
        "T.concordance(\"politics\", width=100, lines=20)\n",
        "T.concordance(\"movement\", width=100, lines=20)\n"
      ]
    },
    {
      "cell_type": "markdown",
      "id": "d5c80aaf",
      "metadata": {
        "id": "d5c80aaf"
      },
      "source": [
        "\n",
        "**Prompt:** In 2–3 sentences, what do the surrounding words suggest about how these topics are framed?\n"
      ]
    },
    {
      "cell_type": "code",
      "execution_count": 29,
      "id": "ff99be15",
      "metadata": {
        "id": "ff99be15",
        "colab": {
          "base_uri": "https://localhost:8080/"
        },
        "outputId": "95c833aa-9d51-48ec-c519-3e4dc256667e"
      },
      "outputs": [
        {
          "output_type": "stream",
          "name": "stdout",
          "text": [
            "\n",
            "(Write your brief interpretation here.)\n",
            "\n",
            "\n",
            "(Write your brief interpretation here.)\n",
            "\n"
          ]
        }
      ],
      "source": [
        "\n",
        "analysis_notes = \"\"\"\n",
        "(Write your brief interpretation here.)\n",
        "\"\"\"\n",
        "print(analysis_notes)\n"
      ]
    },
    {
      "cell_type": "markdown",
      "id": "a5dfbf37",
      "metadata": {
        "id": "a5dfbf37"
      },
      "source": [
        "\n",
        "## Part D — Dispersion Plot (10 min)\n",
        "Where do topics appear (beginning/middle/end)? Replace terms with 3–5 of your own.\n"
      ]
    },
    {
      "cell_type": "code",
      "execution_count": 30,
      "id": "d213dbeb",
      "metadata": {
        "id": "d213dbeb",
        "colab": {
          "base_uri": "https://localhost:8080/",
          "height": 927
        },
        "outputId": "daba51c6-92af-466c-cd23-8b42607b317c"
      },
      "outputs": [
        {
          "output_type": "display_data",
          "data": {
            "text/plain": [
              "<Figure size 640x480 with 1 Axes>"
            ],
            "image/png": "[encoded data removed]"
          },
          "metadata": {}
        },
        {
          "output_type": "display_data",
          "data": {
            "text/plain": [
              "<Figure size 640x480 with 1 Axes>"
            ],
            "image/png": "[encoded data removed]"
          },
          "metadata": {}
        }
      ],
      "source": [
        "\n",
        "# NLTK's dispersion_plot uses matplotlib under the hood\n",
        "T.dispersion_plot([\"self\", \"power\", \"technology\", \"politics\", \"movement\"])\n"
      ]
    },
    {
      "cell_type": "markdown",
      "id": "f37b8dff",
      "metadata": {
        "id": "f37b8dff"
      },
      "source": [
        "\n",
        "**Prompt:** What patterns do you notice? Why might this matter for policy framing?\n"
      ]
    },
    {
      "cell_type": "code",
      "execution_count": 31,
      "id": "611a3062",
      "metadata": {
        "id": "611a3062",
        "colab": {
          "base_uri": "https://localhost:8080/"
        },
        "outputId": "7b3eecca-c2fd-4423-d938-0eef3ecc5135"
      },
      "outputs": [
        {
          "output_type": "stream",
          "name": "stdout",
          "text": [
            "\n",
            "(Write your observations here.)\n",
            "\n",
            "\n",
            "(Write your observations here.)\n",
            "\n"
          ]
        }
      ],
      "source": [
        "\n",
        "framing_notes = \"\"\"\n",
        "(Write your observations here.)\n",
        "\"\"\"\n",
        "print(framing_notes)\n"
      ]
    },
    {
      "cell_type": "markdown",
      "id": "215840fc",
      "metadata": {
        "id": "215840fc"
      },
      "source": [
        "\n",
        "## Part E — Lexical Diversity (10 min)\n",
        "Lexical diversity = unique words / total words. Use a fixed slice for fair comparisons.\n"
      ]
    },
    {
      "cell_type": "code",
      "execution_count": 32,
      "id": "24ddddea",
      "metadata": {
        "id": "24ddddea",
        "colab": {
          "base_uri": "https://localhost:8080/"
        },
        "outputId": "e1b52fe5-0e4c-4f6e-8fd0-5f3f56ab6599"
      },
      "outputs": [
        {
          "output_type": "stream",
          "name": "stdout",
          "text": [
            "Lexical diversity (all tokens): 0.1834\n",
            "Lexical diversity (first 2,000): 0.3315\n",
            "Lexical diversity (all tokens): 0.1834\n",
            "Lexical diversity (first 2,000): 0.3315\n"
          ]
        }
      ],
      "source": [
        "\n",
        "def lexical_diversity(tok_list, n=None):\n",
        "    \"\"\"Return unique/total; if n is provided, compute on first n tokens.\"\"\"\n",
        "    if n:\n",
        "        tok_list = tok_list[:n]\n",
        "    total = len(tok_list) if tok_list else 1\n",
        "    return len(set(tok_list)) / total\n",
        "\n",
        "div_all = lexical_diversity(tokens)\n",
        "div_2k  = lexical_diversity(tokens, 2000)\n",
        "\n",
        "print(\"Lexical diversity (all tokens):\", round(div_all, 4))\n",
        "print(\"Lexical diversity (first 2,000):\", round(div_2k, 4))\n"
      ]
    },
    {
      "cell_type": "markdown",
      "id": "b8e24c2e",
      "metadata": {
        "id": "b8e24c2e"
      },
      "source": [
        "\n",
        "**Why it matters (policy analysis):** Differences in lexical diversity can reflect changes in audience targeting, technicality vs. accessibility, or agenda breadth (e.g., a narrow crisis speech vs. a broad programmatic agenda).  \n",
        "\n",
        "*(Optional)* Compare with a second speech by repeating Part A for another `fileid` and recomputing diversity on the same slice size.\n"
      ]
    },
    {
      "cell_type": "markdown",
      "id": "cc289ee1",
      "metadata": {
        "id": "cc289ee1"
      },
      "source": [
        "\n",
        "## Part F — Reflection (10 min)\n",
        "- Which tool felt most useful for policy analysis (concordance, dispersion, lexical diversity)? Why?  \n",
        "- How could you apply this to a real policy dataset (hearings, legislation, news, social media)?\n"
      ]
    },
    {
      "cell_type": "code",
      "execution_count": 33,
      "id": "1ef83bef",
      "metadata": {
        "id": "1ef83bef",
        "colab": {
          "base_uri": "https://localhost:8080/"
        },
        "outputId": "6f5b59f4-3783-46ab-d32b-594b840ff96a"
      },
      "outputs": [
        {
          "output_type": "stream",
          "name": "stdout",
          "text": [
            "\n",
            "it's cool to see how it interperts the text through quantitive way.\n",
            "\n",
            "\n",
            "it's cool to see how it interperts the text through quantitive way.\n",
            "\n"
          ]
        }
      ],
      "source": [
        "\n",
        "final_reflection = \"\"\"\n",
        "it's cool to see how it interperts the text through quantitive way.\n",
        "\"\"\"\n",
        "print(final_reflection)\n"
      ]
    },
    {
      "cell_type": "markdown",
      "id": "4a38ee4c",
      "metadata": {
        "id": "4a38ee4c"
      },
      "source": [
        "\n",
        "---\n",
        "## 🚀 Stretch Challenges (Optional)\n",
        "\n",
        "### 1) Collocations (common policy phrases)\n",
        "Find frequently co-occurring word pairs (bigrams). These can reveal informative policy phrases (e.g., *national security*, *climate change*).\n"
      ]
    },
    {
      "cell_type": "code",
      "execution_count": 34,
      "id": "ccf4b77b",
      "metadata": {
        "id": "ccf4b77b",
        "colab": {
          "base_uri": "https://localhost:8080/"
        },
        "outputId": "57e23f7f-6820-4387-b30b-b409a68c542f"
      },
      "outputs": [
        {
          "output_type": "execute_result",
          "data": {
            "text/plain": [
              "[('publicatio', 'sui'),\n",
              " ('abbot', 'moses'),\n",
              " ('de', 'ira'),\n",
              " ('being', 'occupied'),\n",
              " ('get', 'prepared'),\n",
              " ('marcus', 'aurelius'),\n",
              " ('money', 'changer'),\n",
              " ('get', 'access'),\n",
              " ('imperial', 'periods'),\n",
              " ('never', 'too'),\n",
              " ('first', 'conference'),\n",
              " ('imperial', 'period'),\n",
              " ('occupy', 'themselves'),\n",
              " ('main', 'features'),\n",
              " ('my', 'father')]"
            ]
          },
          "metadata": {},
          "execution_count": 15
        },
        {
          "output_type": "execute_result",
          "data": {
            "text/plain": [
              "[('publicatio', 'sui'),\n",
              " ('abbot', 'moses'),\n",
              " ('de', 'ira'),\n",
              " ('being', 'occupied'),\n",
              " ('get', 'prepared'),\n",
              " ('marcus', 'aurelius'),\n",
              " ('money', 'changer'),\n",
              " ('get', 'access'),\n",
              " ('imperial', 'periods'),\n",
              " ('never', 'too'),\n",
              " ('first', 'conference'),\n",
              " ('imperial', 'period'),\n",
              " ('occupy', 'themselves'),\n",
              " ('main', 'features'),\n",
              " ('my', 'father')]"
            ]
          },
          "metadata": {},
          "execution_count": 34
        }
      ],
      "source": [
        "\n",
        "from nltk.collocations import BigramAssocMeasures, BigramCollocationFinder\n",
        "\n",
        "# Use a filtered token list (already lowercase & alphabetic)\n",
        "finder = BigramCollocationFinder.from_words(tokens)\n",
        "# Only consider reasonably frequent bigrams (adjust min_freq to taste)\n",
        "finder.apply_freq_filter(3)\n",
        "bigrams_pmi = finder.nbest(BigramAssocMeasures.pmi, 15)\n",
        "bigrams_pmi\n"
      ]
    },
    {
      "cell_type": "markdown",
      "id": "bcc38a52",
      "metadata": {
        "id": "bcc38a52"
      },
      "source": [
        "\n",
        "### 2) VADER sentiment on short snippets\n",
        "Useful for very short statements (tweets, headlines). For long speeches, sentiment averages toward neutral.\n"
      ]
    },
    {
      "cell_type": "code",
      "execution_count": 35,
      "id": "e0ee8fde",
      "metadata": {
        "id": "e0ee8fde",
        "colab": {
          "base_uri": "https://localhost:8080/"
        },
        "outputId": "01a01da3-bd74-4d68-802e-ebee21402014"
      },
      "outputs": [
        {
          "output_type": "stream",
          "name": "stdout",
          "text": [
            "We will rebuild our economy and create jobs. -> {'neg': 0.0, 'neu': 0.769, 'pos': 0.231, 'compound': 0.2732}\n",
            "War brings hardship and loss. -> {'neg': 0.81, 'neu': 0.19, 'pos': 0.0, 'compound': -0.8176}\n",
            "Together we can protect our freedoms. -> {'neg': 0.0, 'neu': 0.455, 'pos': 0.545, 'compound': 0.5859}\n",
            "We will rebuild our economy and create jobs. -> {'neg': 0.0, 'neu': 0.769, 'pos': 0.231, 'compound': 0.2732}\n",
            "War brings hardship and loss. -> {'neg': 0.81, 'neu': 0.19, 'pos': 0.0, 'compound': -0.8176}\n",
            "Together we can protect our freedoms. -> {'neg': 0.0, 'neu': 0.455, 'pos': 0.545, 'compound': 0.5859}\n"
          ]
        }
      ],
      "source": [
        "\n",
        "# VADER is in nltk.sentiment\n",
        "nltk.download('vader_lexicon', quiet=True)\n",
        "from nltk.sentiment import SentimentIntensityAnalyzer\n",
        "\n",
        "sia = SentimentIntensityAnalyzer()\n",
        "\n",
        "samples = [\n",
        "    \"We will rebuild our economy and create jobs.\",\n",
        "    \"War brings hardship and loss.\",\n",
        "    \"Together we can protect our freedoms.\"\n",
        "]\n",
        "\n",
        "for s in samples:\n",
        "    print(s, \"->\", sia.polarity_scores(s))\n"
      ]
    },
    {
      "cell_type": "markdown",
      "id": "f3478974",
      "metadata": {
        "id": "f3478974"
      },
      "source": [
        "\n",
        "### 3) Compare two texts (quick)\n",
        "Repick another `fileid` and compute lexical diversity on the same slice (e.g., 2,000 tokens). What differences do you see?\n"
      ]
    },
    {
      "cell_type": "code",
      "execution_count": 36,
      "id": "5a6c18f2",
      "metadata": {
        "id": "5a6c18f2"
      },
      "outputs": [],
      "source": [
        "\n",
        "# Example scaffold:\n",
        "# s2 = fileids[-1]\n",
        "# raw2 = inaugural.raw(s2)\n",
        "# tokens2 = [w.lower() for w in word_tokenize(raw2) if w.isalpha()]\n",
        "# print(\"A:\", s1, \"div(2k) =\", round(lexical_diversity(tokens, 2000), 4))\n",
        "# print(\"B:\", s2, \"div(2k) =\", round(lexical_diversity(tokens2, 2000), 4))\n"
      ]
    },
    {
      "cell_type": "markdown",
      "id": "b32b9bbe",
      "metadata": {
        "id": "b32b9bbe"
      },
      "source": [
        "\n",
        "### 4) Quick frequency table + matplotlib bar chart\n",
        "Show top 15 tokens (after simple cleaning). *Keep charts simple and readable.*\n"
      ]
    },
    {
      "cell_type": "code",
      "execution_count": 37,
      "id": "1d139120",
      "metadata": {
        "id": "1d139120",
        "colab": {
          "base_uri": "https://localhost:8080/",
          "height": 797
        },
        "outputId": "a403733d-e659-44d3-d31c-3e730b113704"
      },
      "outputs": [
        {
          "output_type": "display_data",
          "data": {
            "text/plain": [
              "<Figure size 1000x400 with 1 Axes>"
            ],
            "image/png": "[encoded data removed]"
          },
          "metadata": {}
        },
        {
          "output_type": "display_data",
          "data": {
            "text/plain": [
              "<Figure size 1000x400 with 1 Axes>"
            ],
            "image/png": "[encoded data removed]"
          },
          "metadata": {}
        }
      ],
      "source": [
        "\n",
        "from nltk import FreqDist\n",
        "import matplotlib.pyplot as plt\n",
        "\n",
        "fd = FreqDist(clean)\n",
        "top = fd.most_common(20)\n",
        "\n",
        "labels, counts = zip(*top)\n",
        "plt.figure(figsize=(10,4))\n",
        "plt.bar(range(len(labels)), counts)\n",
        "plt.xticks(range(len(labels)), labels, rotation=45, ha='right')\n",
        "plt.title(\"Top 20 tokens\")\n",
        "plt.tight_layout()\n",
        "plt.show()\n"
      ]
    },
    {
      "cell_type": "code",
      "source": [
        "def merge_custom(tokens):\n",
        "    merged = []\n",
        "    i = 0\n",
        "    while i < len(tokens):\n",
        "        if i+2 < len(tokens) and tokens[i] == \"care\" and tokens[i+1] == \"of\" and tokens[i+2] == \"self\":\n",
        "            merged.append(\"care_of_self\")\n",
        "            i += 3\n",
        "        elif i+1 < len(tokens) and tokens[i] == \"self\" and tokens[i+1] == \"one\":\n",
        "            merged.append(\"oneself\")\n",
        "            i += 2\n",
        "        elif i+1 < len(tokens) and tokens[i] == \"human\" and tokens[i+1] == \"being\":\n",
        "            merged.append(\"human_being\")\n",
        "            i += 2\n",
        "        else:\n",
        "            merged.append(tokens[i])\n",
        "            i += 1\n",
        "    return merged\n",
        "\n",
        "def run_pipeline(text):\n",
        "    toks = tokenize_norm(text)\n",
        "    toks_nostop = remove_stopwords(toks)\n",
        "    clean = pos_lemmatize(toks_nostop)\n",
        "    clean = merge_custom(clean)  # ✅ 一定要加在最后！\n",
        "    return toks, toks_nostop, clean\n",
        "tokens, toks_nostop, clean = run_pipeline(raw)\n",
        "print([w for w in clean if \"self\" in w][:10])  # 查看包含self的词\n"
      ],
      "metadata": {
        "colab": {
          "base_uri": "https://localhost:8080/"
        },
        "id": "2uG86aUesgC2",
        "outputId": "01723320-417a-4b61-92dd-0f1688d1a913"
      },
      "id": "2uG86aUesgC2",
      "execution_count": 51,
      "outputs": [
        {
          "output_type": "stream",
          "name": "stdout",
          "text": [
            "['self', 'self', 'self', 'oneself', 'oneself', 'oneself', 'oneself', 'self', 'self', 'self']\n"
          ]
        }
      ]
    },
    {
      "cell_type": "code",
      "source": [
        "from nltk import FreqDist\n",
        "import matplotlib.pyplot as plt\n",
        "\n",
        "fd = FreqDist(clean)\n",
        "top = fd.most_common(20)\n",
        "\n",
        "labels, counts = zip(*top)\n",
        "plt.figure(figsize=(10,4))\n",
        "plt.bar(range(len(labels)), counts)\n",
        "plt.xticks(range(len(labels)), labels, rotation=45, ha='right')\n",
        "plt.title(\"Top 20 tokens (after merge)\")\n",
        "plt.tight_layout()\n",
        "plt.show()\n"
      ],
      "metadata": {
        "colab": {
          "base_uri": "https://localhost:8080/",
          "height": 407
        },
        "id": "ix39aIGXssel",
        "outputId": "2ed4afaa-1b85-4be8-9403-726158eaf3ea"
      },
      "id": "ix39aIGXssel",
      "execution_count": 53,
      "outputs": [
        {
          "output_type": "display_data",
          "data": {
            "text/plain": [
              "<Figure size 1000x400 with 1 Axes>"
            ],
            "image/png": "[encoded data removed]"
          },
          "metadata": {}
        }
      ]
    }
  ],
  "metadata": {
    "colab": {
      "provenance": [],
      "include_colab_link": true
    },
    "language_info": {
      "name": "python"
    },
    "kernelspec": {
      "name": "python3",
      "display_name": "Python 3"
    }
  },
  "nbformat": 4,
  "nbformat_minor": 5
}